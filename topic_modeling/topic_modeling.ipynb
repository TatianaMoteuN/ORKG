{
 "cells": [
  {
   "cell_type": "code",
   "execution_count": 2,
   "metadata": {},
   "outputs": [
    {
     "name": "stdout",
     "output_type": "stream",
     "text": [
      "Collecting gensim\n",
      "  Downloading gensim-4.2.0-cp39-cp39-manylinux_2_12_x86_64.manylinux2010_x86_64.whl (24.0 MB)\n",
      "\u001b[K     |████████████████████████████████| 24.0 MB 2.1 kB/s eta 0:00:01\n",
      "\u001b[?25hRequirement already satisfied: numpy>=1.17.0 in /home/wilfried/.local/lib/python3.9/site-packages (from gensim) (1.23.0)\n",
      "Requirement already satisfied: smart-open>=1.8.1 in /home/wilfried/.local/lib/python3.9/site-packages (from gensim) (5.2.1)\n",
      "Requirement already satisfied: scipy>=0.18.1 in /home/wilfried/.local/lib/python3.9/site-packages (from gensim) (1.8.1)\n",
      "Installing collected packages: gensim\n",
      "Successfully installed gensim-4.2.0\n"
     ]
    }
   ],
   "source": [
    "!pip install gensim"
   ]
  },
  {
   "cell_type": "code",
   "execution_count": 3,
   "metadata": {
    "colab": {
     "base_uri": "https://localhost:8080/"
    },
    "id": "Og80RZrEQafV",
    "outputId": "e84ad640-c422-4441-d116-3495f6ed7a3d"
   },
   "outputs": [
    {
     "name": "stderr",
     "output_type": "stream",
     "text": [
      "UsageError: Line magic function `%tensorflow_version` not found.\n"
     ]
    }
   ],
   "source": [
    "#import librairies\n",
    "import os\n",
    "import pandas as pd\n",
    "import matplotlib.pyplot as plt\n",
    "import networkx as nx\n",
    "import csv\n",
    "import numpy as np\n",
    "import seaborn as sns\n",
    "import gensim\n",
    "from gensim.utils import simple_preprocess\n",
    "import nltk\n",
    "import re\n",
    "from pprint import pprint\n",
    "\n",
    "\n",
    "%tensorflow_version 1.x\n",
    "import tensorflow as tf\n",
    "print(tf.__version__)\n",
    "\n",
    "%matplotlib inline\n",
    "\n"
   ]
  },
  {
   "cell_type": "code",
   "execution_count": 4,
   "metadata": {
    "id": "wr5xyS48QjXj"
   },
   "outputs": [],
   "source": [
    "#we load our datsets\n",
    "\n",
    "train_data = pd.read_csv('../datasets/train-data.csv')\n",
    "test_data = pd.read_csv('../datasets/test-data.csv')"
   ]
  },
  {
   "cell_type": "code",
   "execution_count": 5,
   "metadata": {
    "colab": {
     "base_uri": "https://localhost:8080/",
     "height": 354
    },
    "id": "pVzksJMDQt-D",
    "outputId": "613c0826-45f0-4b08-a3e7-c1f2acfcc827"
   },
   "outputs": [
    {
     "data": {
      "text/html": [
       "<div>\n",
       "<style scoped>\n",
       "    .dataframe tbody tr th:only-of-type {\n",
       "        vertical-align: middle;\n",
       "    }\n",
       "\n",
       "    .dataframe tbody tr th {\n",
       "        vertical-align: top;\n",
       "    }\n",
       "\n",
       "    .dataframe thead th {\n",
       "        text-align: right;\n",
       "    }\n",
       "</style>\n",
       "<table border=\"1\" class=\"dataframe\">\n",
       "  <thead>\n",
       "    <tr style=\"text-align: right;\">\n",
       "      <th></th>\n",
       "      <th>Unnamed: 0</th>\n",
       "      <th>subject</th>\n",
       "      <th>predicate</th>\n",
       "      <th>object</th>\n",
       "    </tr>\n",
       "  </thead>\n",
       "  <tbody>\n",
       "    <tr>\n",
       "      <th>0</th>\n",
       "      <td>0</td>\n",
       "      <td>contribution</td>\n",
       "      <td>SCIBERT : A Pretrained Language Model for Scie...</td>\n",
       "      <td>Pretrained Language Model</td>\n",
       "    </tr>\n",
       "    <tr>\n",
       "      <th>1</th>\n",
       "      <td>1</td>\n",
       "      <td>contribution</td>\n",
       "      <td>Joint Extraction of Entities and Relations Bas...</td>\n",
       "      <td>Joint Extraction of Entities and Relations</td>\n",
       "    </tr>\n",
       "    <tr>\n",
       "      <th>2</th>\n",
       "      <td>2</td>\n",
       "      <td>contribution</td>\n",
       "      <td>Joint entity recognition and relation extracti...</td>\n",
       "      <td>Joint entity recognition and relation extraction</td>\n",
       "    </tr>\n",
       "    <tr>\n",
       "      <th>3</th>\n",
       "      <td>3</td>\n",
       "      <td>contribution</td>\n",
       "      <td>Data and text mining BioBERT : a pre-trained b...</td>\n",
       "      <td>pre-trained biomedical language representation</td>\n",
       "    </tr>\n",
       "    <tr>\n",
       "      <th>4</th>\n",
       "      <td>4</td>\n",
       "      <td>contribution</td>\n",
       "      <td>Semantic Relation Classification via Bidirecti...</td>\n",
       "      <td>Semantic Relation Classification</td>\n",
       "    </tr>\n",
       "  </tbody>\n",
       "</table>\n",
       "</div>"
      ],
      "text/plain": [
       "   Unnamed: 0       subject  \\\n",
       "0           0  contribution   \n",
       "1           1  contribution   \n",
       "2           2  contribution   \n",
       "3           3  contribution   \n",
       "4           4  contribution   \n",
       "\n",
       "                                           predicate  \\\n",
       "0  SCIBERT : A Pretrained Language Model for Scie...   \n",
       "1  Joint Extraction of Entities and Relations Bas...   \n",
       "2  Joint entity recognition and relation extracti...   \n",
       "3  Data and text mining BioBERT : a pre-trained b...   \n",
       "4  Semantic Relation Classification via Bidirecti...   \n",
       "\n",
       "                                             object  \n",
       "0                         Pretrained Language Model  \n",
       "1        Joint Extraction of Entities and Relations  \n",
       "2  Joint entity recognition and relation extraction  \n",
       "3    pre-trained biomedical language representation  \n",
       "4                  Semantic Relation Classification  "
      ]
     },
     "execution_count": 5,
     "metadata": {},
     "output_type": "execute_result"
    }
   ],
   "source": [
    "train_data.head()"
   ]
  },
  {
   "cell_type": "markdown",
   "metadata": {
    "id": "9pV8VGBun3YE"
   },
   "source": [
    "### Data preprocessing"
   ]
  },
  {
   "cell_type": "code",
   "execution_count": 6,
   "metadata": {
    "colab": {
     "base_uri": "https://localhost:8080/"
    },
    "id": "WQ7mm1I7RJdl",
    "outputId": "afd39449-e879-4774-9736-7352fdcc03d2"
   },
   "outputs": [
    {
     "data": {
      "text/plain": [
       "0    scibert : a pretrained language model for scie...\n",
       "1    joint extraction of entities and relations bas...\n",
       "2    joint entity recognition and relation extracti...\n",
       "3    data and text mining biobert : a pre-trained b...\n",
       "4    semantic relation classification via bidirecti...\n",
       "Name: predicate_processed, dtype: object"
      ]
     },
     "execution_count": 6,
     "metadata": {},
     "output_type": "execute_result"
    }
   ],
   "source": [
    "#We perform punctuation removal and lower casing\n",
    "\n",
    "\n",
    "# Remove punctuation\n",
    "train_data['predicate_processed'] = \\\n",
    "train_data['predicate'].map(lambda x: re.sub('[,\\.!?]', '', x))\n",
    "\n",
    "# Convert the text to lowercase\n",
    "train_data['predicate_processed'] = \\\n",
    "train_data['predicate_processed'].map(lambda x: x.lower())\n",
    "\n",
    "# Print out the first rows of text\n",
    "train_data['predicate_processed'].head()"
   ]
  },
  {
   "cell_type": "markdown",
   "metadata": {
    "id": "WIIyUxFLSeb9"
   },
   "source": [
    "### Data exploration"
   ]
  },
  {
   "cell_type": "code",
   "execution_count": 8,
   "metadata": {},
   "outputs": [
    {
     "name": "stdout",
     "output_type": "stream",
     "text": [
      "Collecting wordcloud\n",
      "  Downloading wordcloud-1.8.2.2-cp39-cp39-manylinux_2_17_x86_64.manylinux2014_x86_64.whl (458 kB)\n",
      "\u001b[K     |████████████████████████████████| 458 kB 1.5 MB/s eta 0:00:01\n",
      "\u001b[?25hRequirement already satisfied: numpy>=1.6.1 in /home/wilfried/.local/lib/python3.9/site-packages (from wordcloud) (1.23.0)\n",
      "Requirement already satisfied: pillow in /usr/lib/python3/dist-packages (from wordcloud) (8.1.2)\n",
      "Requirement already satisfied: matplotlib in /usr/lib/python3/dist-packages (from wordcloud) (3.3.4)\n",
      "Installing collected packages: wordcloud\n",
      "Successfully installed wordcloud-1.8.2.2\n"
     ]
    }
   ],
   "source": [
    "!pip install wordcloud"
   ]
  },
  {
   "cell_type": "code",
   "execution_count": 9,
   "metadata": {
    "colab": {
     "base_uri": "https://localhost:8080/",
     "height": 217
    },
    "id": "HPR6eXnbSYXG",
    "outputId": "55da932c-69bb-4416-f6cd-95dd3eade852"
   },
   "outputs": [
    {
     "data": {
      "image/png": "[encoded data removed]",
      "text/plain": [
       "<PIL.Image.Image image mode=RGB size=400x200 at 0x7F8DC03B6910>"
      ]
     },
     "execution_count": 9,
     "metadata": {},
     "output_type": "execute_result"
    }
   ],
   "source": [
    "# Import the wordcloud library\n",
    "from wordcloud import WordCloud\n",
    "\n",
    "# Join the different processed test together.\n",
    "long_string = ','.join(list(train_data['predicate_processed'].values))\n",
    "\n",
    "# Create a WordCloud object\n",
    "wordcloud = WordCloud(background_color=\"white\", max_words=1000, contour_width=3, contour_color='steelblue')\n",
    "\n",
    "# Generate a word cloud\n",
    "wordcloud.generate(long_string)\n",
    "\n",
    "# Visualize the word cloud\n",
    "wordcloud.to_image()"
   ]
  },
  {
   "cell_type": "markdown",
   "metadata": {
    "id": "uanOesjwoKOw"
   },
   "source": [
    "We have a visual representation of most commont words"
   ]
  },
  {
   "cell_type": "markdown",
   "metadata": {
    "id": "IENYXxXsS1OQ"
   },
   "source": [
    "### Data preparation"
   ]
  },
  {
   "cell_type": "code",
   "execution_count": 10,
   "metadata": {
    "colab": {
     "base_uri": "https://localhost:8080/"
    },
    "id": "_ECdETVbSwE5",
    "outputId": "279e9a2b-e062-4cc6-9b68-b120cbc89d5e"
   },
   "outputs": [
    {
     "name": "stdout",
     "output_type": "stream",
     "text": [
      "['scibert', 'pretrained', 'language', 'model', 'scientific', 'text']\n"
     ]
    },
    {
     "name": "stderr",
     "output_type": "stream",
     "text": [
      "[nltk_data] Downloading package stopwords to\n",
      "[nltk_data]     /home/wilfried/nltk_data...\n",
      "[nltk_data]   Unzipping corpora/stopwords.zip.\n"
     ]
    }
   ],
   "source": [
    "#we transform the textual data in a format that will serve as an input for training LDA model\n",
    "nltk.download('stopwords')\n",
    "from nltk.corpus import stopwords\n",
    "\n",
    "stop_words = stopwords.words('english')\n",
    "stop_words.extend(['from', 'subject', 're', 'edu', 'use'])\n",
    "\n",
    "def sent_to_words(sentences):\n",
    "    for sentence in sentences:\n",
    "        yield(gensim.utils.simple_preprocess(str(sentence), deacc=True))\n",
    "\n",
    "def remove_stopwords(texts):\n",
    "    return [[word for word in simple_preprocess(str(doc)) \n",
    "             if word not in stop_words] for doc in texts]\n",
    "\n",
    "\n",
    "data = train_data.predicate_processed.values.tolist()\n",
    "data_words = list(sent_to_words(data))\n",
    "\n",
    "# remove stop words\n",
    "data_words = remove_stopwords(data_words\n",
    "                              )\n",
    "\n",
    "print(data_words[:1][0][:30])"
   ]
  },
  {
   "cell_type": "code",
   "execution_count": 11,
   "metadata": {
    "colab": {
     "base_uri": "https://localhost:8080/"
    },
    "id": "kHTUgU5YTYcc",
    "outputId": "7f738eba-9b3d-47b9-f2d8-3c1924d3d051"
   },
   "outputs": [
    {
     "name": "stdout",
     "output_type": "stream",
     "text": [
      "[(0, 1), (1, 1), (2, 1), (3, 1), (4, 1), (5, 1)]\n"
     ]
    }
   ],
   "source": [
    "import gensim.corpora as corpora\n",
    "\n",
    "# Create Dictionary\n",
    "id2word = corpora.Dictionary(data_words)\n",
    "\n",
    "# Create Corpus\n",
    "texts = data_words\n",
    "\n",
    "# Term Document Frequency\n",
    "corpus = [id2word.doc2bow(text) for text in texts]\n",
    "\n",
    "# View\n",
    "print(corpus[:1][0][:30])"
   ]
  },
  {
   "cell_type": "markdown",
   "metadata": {
    "id": "J8iLFRkITjVR"
   },
   "source": [
    "### LDA model training"
   ]
  },
  {
   "cell_type": "code",
   "execution_count": 12,
   "metadata": {
    "colab": {
     "base_uri": "https://localhost:8080/"
    },
    "id": "bE2yb3_hTgzG",
    "outputId": "032dab30-599b-4fe5-a259-6e8c57eda2e9"
   },
   "outputs": [
    {
     "name": "stdout",
     "output_type": "stream",
     "text": [
      "[(0,\n",
      "  '0.031*\"based\" + 0.026*\"sentence\" + 0.019*\"answering\" + 0.019*\"question\" + '\n",
      "  '0.019*\"extraction\" + 0.019*\"semantic\" + 0.019*\"neural\" + 0.015*\"model\" + '\n",
      "  '0.015*\"text\" + 0.015*\"relation\"'),\n",
      " (1,\n",
      "  '0.041*\"neural\" + 0.028*\"language\" + 0.026*\"model\" + 0.024*\"machine\" + '\n",
      "  '0.022*\"question\" + 0.019*\"answering\" + 0.015*\"reading\" + 0.012*\"training\" + '\n",
      "  '0.012*\"sentence\" + 0.012*\"networks\"'),\n",
      " (2,\n",
      "  '0.029*\"comprehension\" + 0.026*\"sentiment\" + 0.023*\"aspect\" + '\n",
      "  '0.022*\"reading\" + 0.022*\"attention\" + 0.021*\"text\" + 0.019*\"analysis\" + '\n",
      "  '0.017*\"machine\" + 0.015*\"supervised\" + 0.015*\"based\"'),\n",
      " (3,\n",
      "  '0.027*\"multi\" + 0.023*\"task\" + 0.023*\"aspect\" + 0.023*\"sentence\" + '\n",
      "  '0.020*\"model\" + 0.019*\"classification\" + 0.015*\"machine\" + '\n",
      "  '0.015*\"comprehension\" + 0.015*\"whether\" + 0.015*\"called\"'),\n",
      " (4,\n",
      "  '0.046*\"level\" + 0.046*\"attention\" + 0.046*\"sentiment\" + 0.041*\"aspect\" + '\n",
      "  '0.035*\"classification\" + 0.018*\"lstm\" + 0.018*\"natural\" + 0.018*\"corpus\" + '\n",
      "  '0.018*\"inference\" + 0.018*\"networks\"'),\n",
      " (5,\n",
      "  '0.037*\"sentiment\" + 0.026*\"aspect\" + 0.022*\"networks\" + 0.022*\"machine\" + '\n",
      "  '0.018*\"multi\" + 0.018*\"comprehension\" + 0.018*\"analysis\" + '\n",
      "  '0.018*\"answering\" + 0.018*\"attention\" + 0.018*\"question\"'),\n",
      " (6,\n",
      "  '0.024*\"representations\" + 0.020*\"memory\" + 0.020*\"neural\" + 0.014*\"network\" '\n",
      "  '+ 0.012*\"deep\" + 0.012*\"constructing\" + 0.012*\"sentences\" + '\n",
      "  '0.012*\"knowledge\" + 0.012*\"documents\" + 0.012*\"meta\"'),\n",
      " (7,\n",
      "  '0.031*\"learning\" + 0.020*\"text\" + 0.018*\"sentence\" + 0.018*\"deep\" + '\n",
      "  '0.018*\"networks\" + 0.018*\"neural\" + 0.012*\"relation\" + 0.012*\"speech\" + '\n",
      "  '0.012*\"via\" + 0.012*\"attention\"'),\n",
      " (8,\n",
      "  '0.031*\"level\" + 0.031*\"classification\" + 0.024*\"multi\" + 0.024*\"sentence\" + '\n",
      "  '0.024*\"sentiment\" + 0.024*\"aspect\" + 0.016*\"grain\" + 0.016*\"attention\" + '\n",
      "  '0.016*\"answering\" + 0.016*\"recurrent\"'),\n",
      " (9,\n",
      "  '0.027*\"networks\" + 0.023*\"relation\" + 0.023*\"entity\" + '\n",
      "  '0.023*\"classification\" + 0.022*\"neural\" + 0.022*\"extraction\" + 0.017*\"text\" '\n",
      "  '+ 0.014*\"based\" + 0.014*\"learning\" + 0.014*\"model\"'),\n",
      " (10,\n",
      "  '0.023*\"machine\" + 0.023*\"learning\" + 0.018*\"conference\" + 0.018*\"iclr\" + '\n",
      "  '0.018*\"paper\" + 0.018*\"comprehension\" + 0.018*\"neural\" + 0.018*\"published\" '\n",
      "  '+ 0.012*\"representations\" + 0.012*\"reading\"'),\n",
      " (11,\n",
      "  '0.033*\"text\" + 0.022*\"neural\" + 0.017*\"semantic\" + 0.014*\"machine\" + '\n",
      "  '0.013*\"language\" + 0.013*\"comprehension\" + 0.011*\"selection\" + 0.011*\"word\" '\n",
      "  '+ 0.011*\"inference\" + 0.011*\"using\"'),\n",
      " (12,\n",
      "  '0.024*\"emotion\" + 0.024*\"classification\" + 0.024*\"detection\" + '\n",
      "  '0.012*\"textual\" + 0.012*\"interactive\" + 0.012*\"scaffolds\" + '\n",
      "  '0.012*\"conversational\" + 0.012*\"memory\" + 0.012*\"document\" + '\n",
      "  '0.012*\"conversations\"'),\n",
      " (13,\n",
      "  '0.025*\"question\" + 0.025*\"network\" + 0.020*\"machine\" + '\n",
      "  '0.020*\"comprehension\" + 0.015*\"task\" + 0.015*\"reading\" + 0.015*\"answering\" '\n",
      "  '+ 0.010*\"pointer\" + 0.010*\"summarization\" + 0.010*\"based\"'),\n",
      " (14,\n",
      "  '0.025*\"language\" + 0.024*\"inference\" + 0.022*\"reading\" + '\n",
      "  '0.022*\"comprehension\" + 0.021*\"natural\" + 0.018*\"machine\" + 0.018*\"model\" + '\n",
      "  '0.018*\"learning\" + 0.018*\"end\" + 0.017*\"lstm\"')]\n"
     ]
    }
   ],
   "source": [
    "# number of topics\n",
    "num_topics = 15\n",
    "\n",
    "# Build LDA model\n",
    "lda_model = gensim.models.LdaMulticore(corpus=corpus,\n",
    "                                       id2word=id2word,\n",
    "                                       num_topics=num_topics)\n",
    "\n",
    "# Print the Keyword in the 10 topics\n",
    "pprint(lda_model.print_topics())\n",
    "doc_lda = lda_model[corpus]"
   ]
  },
  {
   "cell_type": "markdown",
   "metadata": {
    "id": "0xtty9zErhzY"
   },
   "source": [
    "### Analyzing our LDA model\n",
    "The goal here is to understand and intreprete individual topics and, the relationships between them. This will help us visualize a cluster of each topics with their correcponding words"
   ]
  },
  {
   "cell_type": "code",
   "execution_count": 14,
   "metadata": {
    "colab": {
     "base_uri": "https://localhost:8080/"
    },
    "id": "MfNtauMwUnXQ",
    "outputId": "25f27329-4846-4514-b32d-b5e3e15c520c"
   },
   "outputs": [
    {
     "name": "stdout",
     "output_type": "stream",
     "text": [
      "Collecting pyLDAvis\n",
      "  Downloading pyLDAvis-3.3.1.tar.gz (1.7 MB)\n",
      "\u001b[K     |████████████████████████████████| 1.7 MB 83 kB/s  eta 0:00:01\n",
      "\u001b[?25h  Installing build dependencies ... \u001b[?25ldone\n",
      "\u001b[?25h  Getting requirements to build wheel ... \u001b[?25ldone\n",
      "\u001b[?25h  Installing backend dependencies ... \u001b[?25ldone\n",
      "\u001b[?25h    Preparing wheel metadata ... \u001b[?25ldone\n",
      "\u001b[?25hRequirement already satisfied: scipy in /home/wilfried/.local/lib/python3.9/site-packages (from pyLDAvis) (1.8.1)\n",
      "Collecting funcy\n",
      "  Downloading funcy-1.17-py2.py3-none-any.whl (33 kB)\n",
      "Requirement already satisfied: scikit-learn in /home/wilfried/.local/lib/python3.9/site-packages (from pyLDAvis) (1.1.0)\n",
      "Requirement already satisfied: numexpr in /usr/lib/python3/dist-packages (from pyLDAvis) (2.7.2)\n",
      "Collecting pandas>=1.2.0\n",
      "  Downloading pandas-1.4.3-cp39-cp39-manylinux_2_17_x86_64.manylinux2014_x86_64.whl (11.7 MB)\n",
      "\u001b[K     |████████████████████████████████| 11.7 MB 2.8 MB/s eta 0:00:01\n",
      "\u001b[?25hRequirement already satisfied: joblib in /home/wilfried/.local/lib/python3.9/site-packages (from pyLDAvis) (1.1.0)\n",
      "Requirement already satisfied: gensim in /home/wilfried/.local/lib/python3.9/site-packages (from pyLDAvis) (4.2.0)\n",
      "Requirement already satisfied: numpy>=1.20.0 in /home/wilfried/.local/lib/python3.9/site-packages (from pyLDAvis) (1.23.0)\n",
      "Requirement already satisfied: setuptools in /usr/lib/python3/dist-packages (from pyLDAvis) (52.0.0)\n",
      "Requirement already satisfied: sklearn in /home/wilfried/.local/lib/python3.9/site-packages (from pyLDAvis) (0.0)\n",
      "Requirement already satisfied: future in /usr/lib/python3/dist-packages (from pyLDAvis) (0.18.2)\n",
      "Requirement already satisfied: jinja2 in /home/wilfried/.local/lib/python3.9/site-packages (from pyLDAvis) (3.1.2)\n",
      "Requirement already satisfied: python-dateutil>=2.8.1 in /usr/lib/python3/dist-packages (from pandas>=1.2.0->pyLDAvis) (2.8.1)\n",
      "Requirement already satisfied: pytz>=2020.1 in /usr/lib/python3/dist-packages (from pandas>=1.2.0->pyLDAvis) (2021.1)\n",
      "Requirement already satisfied: smart-open>=1.8.1 in /home/wilfried/.local/lib/python3.9/site-packages (from gensim->pyLDAvis) (5.2.1)\n",
      "Requirement already satisfied: MarkupSafe>=2.0 in /home/wilfried/.local/lib/python3.9/site-packages (from jinja2->pyLDAvis) (2.1.1)\n",
      "Requirement already satisfied: threadpoolctl>=2.0.0 in /home/wilfried/.local/lib/python3.9/site-packages (from scikit-learn->pyLDAvis) (3.1.0)\n",
      "Building wheels for collected packages: pyLDAvis\n",
      "  Building wheel for pyLDAvis (PEP 517) ... \u001b[?25ldone\n",
      "\u001b[?25h  Created wheel for pyLDAvis: filename=pyLDAvis-3.3.1-py2.py3-none-any.whl size=136882 sha256=5b604a7713db1b6c9332584601c1bc322f1ad12006c42d520a1df5575438d783\n",
      "  Stored in directory: /home/wilfried/.cache/pip/wheels/57/a4/86/d10c6c2e0bf149fbc0afb0aa5a6528ac35b30a133a0270c477\n",
      "Successfully built pyLDAvis\n",
      "Installing collected packages: pandas, funcy, pyLDAvis\n",
      "\u001b[31mERROR: pip's dependency resolver does not currently take into account all the packages that are installed. This behaviour is the source of the following dependency conflicts.\n",
      "rexmex 0.1.0 requires pandas<=1.3.5, but you have pandas 1.4.3 which is incompatible.\n",
      "farm-haystack 1.4.0 requires torch<1.11,>1.9, but you have torch 1.12.0 which is incompatible.\u001b[0m\n",
      "Successfully installed funcy-1.17 pandas-1.4.3 pyLDAvis-3.3.1\n"
     ]
    }
   ],
   "source": [
    "!pip install pyLDAvis"
   ]
  },
  {
   "cell_type": "code",
   "execution_count": 17,
   "metadata": {
    "colab": {
     "base_uri": "https://localhost:8080/",
     "height": 917
    },
    "id": "_K47ZbT7UF_y",
    "outputId": "dba1c9ae-fdd1-4a1e-b4a0-eff29abed40b",
    "scrolled": false
   },
   "outputs": [
    {
     "name": "stderr",
     "output_type": "stream",
     "text": [
      "/usr/lib/python3/dist-packages/ipykernel/ipkernel.py:283: DeprecationWarning: `should_run_async` will not call `transform_cell` automatically in the future. Please pass the result to `transformed_cell` argument and any exception that happen during thetransform in `preprocessing_exc_tuple` in IPython 7.17 and above.\n",
      "  and should_run_async(code)\n"
     ]
    }
   ],
   "source": [
    "import pyLDAvis.gensim_models as gensimvis\n",
    "\n",
    "gensimvis.prepare(lda_model, corpus, id2word)\n"
   ]
  },
  {
   "cell_type": "code",
   "execution_count": null,
   "metadata": {
    "id": "UOSqsPk0U4Ky"
   },
   "outputs": [],
   "source": []
  }
 ],
 "metadata": {
  "colab": {
   "name": "topic_modeling.ipynb",
   "provenance": []
  },
  "kernelspec": {
   "display_name": "Python 3",
   "language": "python",
   "name": "python3"
  },
  "language_info": {
   "codemirror_mode": {
    "name": "ipython",
    "version": 3
   },
   "file_extension": ".py",
   "mimetype": "text/x-python",
   "name": "python",
   "nbconvert_exporter": "python",
   "pygments_lexer": "ipython3",
   "version": "3.9.2"
  }
 },
 "nbformat": 4,
 "nbformat_minor": 1
}
